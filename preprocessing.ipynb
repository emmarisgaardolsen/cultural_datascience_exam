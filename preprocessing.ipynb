{
 "cells": [
  {
   "attachments": {},
   "cell_type": "markdown",
   "id": "376331ce-6f1d-4e28-9458-49dac15ecc2b",
   "metadata": {
    "tags": []
   },
   "source": [
    "# NLP and visualizations based on .txt files\n",
    "The data is New Year's Speeches held by Danish Prime Ministers. The speeches included have been transcribed and publicly shared on the Government's Webpage. \n",
    "\n",
    "## This notebook is divided into the following sections:\n",
    "1. Overview of prime ministers\n",
    "2. Installing and importing libraries\n",
    "3. Loading in the data, i.e., the transcripts\n",
    "4. Cleaning the transcripts and preprare data frame\n",
    "5. Making dataframe subsets\n",
    "6. Sentiment analysis using Sentida\n",
    "7. Creating Word Clouds\n",
    "8. Finding the top 25 words\n",
    "9. Lix score calculation\n",
    "10. BERT Sentiment Analysis\n",
    "\n",
    "\n",
    "Regeringsperioder:\n",
    "- RØD [1998-2001]\n",
    "- BLÅ [2003 - 2011]\n",
    "- RØD [2012 - 2015]\n",
    "- BLÅ [2016 - 2019]\n",
    "- RØD [2020 - 2021]"
   ]
  },
  {
   "attachments": {},
   "cell_type": "markdown",
   "id": "131b2a82",
   "metadata": {},
   "source": [
    "## 1. Overview of speeches and prime ministers"
   ]
  },
  {
   "attachments": {},
   "cell_type": "markdown",
   "id": "e8530d6e",
   "metadata": {},
   "source": [
    "- TS: Thorvald Stauning / Socialdemokratiet / R\n",
    "- HH: Hans Hedtoft / Socialdemokratiet / R\n",
    "- EE: Erik Eriksen / Venstre / B\n",
    "- JOK: Jens Otto Krag / Socialdemokratiet / R\n",
    "- HB: Hilmar Baunsgaard / Radikale Venstre / M\n",
    "- AJ: Anker Jørensen / Socialdemokratiet / R\n",
    "- PS: Poul Schlüter / Det Konservative Folkeparti / B\n",
    "- PNR: Poul Nyrup Rasmussen / Socialdemokratiet / R\n",
    "- AF: Anders Fogh / Venstre / B\n",
    "- LL: Lars Løkke / Venstre B / \n",
    "- HTS: Helle Thorning Schmidt / Socialdemokratiet / R\n",
    "- MF: Mette Frederiksen / Socialdemokratiet / R"
   ]
  },
  {
   "attachments": {},
   "cell_type": "markdown",
   "id": "07be1e18-9a94-4197-ade5-743843bd82af",
   "metadata": {
    "tags": []
   },
   "source": [
    "## 2. Installing and importing libraries"
   ]
  },
  {
   "cell_type": "code",
   "execution_count": null,
   "id": "31312072",
   "metadata": {},
   "outputs": [],
   "source": [
    "# Importing modules\n",
    "import numpy as np\n",
    "import pandas as pd\n",
    "import matplotlib.pyplot as plt\n",
    "import re\n",
    "import nltk\n",
    "import os\n",
    "import glob\n",
    "\n",
    "import sentida\n",
    "from sentida import Sentida\n",
    "from wordcloud import WordCloud\n",
    "from wordcloud import ImageColorGenerator\n",
    "nltk.download('punkt')\n",
    "from nltk.tokenize import word_tokenize\n",
    "from helper_functions import *"
   ]
  },
  {
   "attachments": {},
   "cell_type": "markdown",
   "id": "f09e814c-fe12-4500-8257-f5f2a4518174",
   "metadata": {
    "tags": []
   },
   "source": [
    "## 3. Loading in the data, i.e., the transcripts\n",
    "I'll import .tx files containing the transcripts and call the cleaning_transcripts function."
   ]
  },
  {
   "cell_type": "code",
   "execution_count": null,
   "id": "90a60bcb-5d9e-4b26-80aa-7de077a02864",
   "metadata": {
    "execution": {
     "iopub.execute_input": "2022-11-28T08:32:19.050313Z",
     "iopub.status.busy": "2022-11-28T08:32:19.050090Z",
     "iopub.status.idle": "2022-11-28T08:32:19.076296Z",
     "shell.execute_reply": "2022-11-28T08:32:19.075117Z",
     "shell.execute_reply.started": "2022-11-28T08:32:19.050293Z"
    },
    "tags": []
   },
   "outputs": [],
   "source": [
    "os.chdir('/Users/emmaolsen/Library/CloudStorage/OneDrive-Aarhusuniversitet/cognitive_science/5th_semester/cultural_datascience/au650627_olsen_emma/NLP_nytaarstaler')"
   ]
  },
  {
   "cell_type": "code",
   "execution_count": null,
   "id": "21d9ab19-7008-44ea-93b4-3ae4ee18efd7",
   "metadata": {
    "execution": {
     "iopub.execute_input": "2022-11-28T08:34:47.389195Z",
     "iopub.status.busy": "2022-11-28T08:34:47.388551Z",
     "iopub.status.idle": "2022-11-28T08:34:47.399666Z",
     "shell.execute_reply": "2022-11-28T08:34:47.398436Z",
     "shell.execute_reply.started": "2022-11-28T08:34:47.389141Z"
    },
    "tags": []
   },
   "outputs": [],
   "source": [
    "all_files = glob.glob(\"scraped_txts/*.txt\")\n",
    "all_files"
   ]
  },
  {
   "cell_type": "code",
   "execution_count": null,
   "id": "f1ee29bd",
   "metadata": {},
   "outputs": [],
   "source": [
    "speeches = {}\n",
    "\n",
    "for file in all_files:\n",
    "    loaded_file = opentxtfile(file)\n",
    "    filename = file.split('/')[1].split('.')[0]\n",
    "    \n",
    "    speeches.update({filename: loaded_file})"
   ]
  },
  {
   "cell_type": "code",
   "execution_count": null,
   "id": "e2b266e2",
   "metadata": {},
   "outputs": [],
   "source": [
    "speeches"
   ]
  },
  {
   "attachments": {},
   "cell_type": "markdown",
   "id": "0316a2ac-8ce9-4a7c-98b9-e3e701c459d1",
   "metadata": {
    "execution": {
     "iopub.execute_input": "2022-11-01T21:12:11.823114Z",
     "iopub.status.busy": "2022-11-01T21:12:11.822387Z",
     "iopub.status.idle": "2022-11-01T21:12:11.833025Z",
     "shell.execute_reply": "2022-11-01T21:12:11.832077Z",
     "shell.execute_reply.started": "2022-11-01T21:12:11.823055Z"
    },
    "tags": []
   },
   "source": [
    "## 4. Cleaning the transcripts & prepare dataframe"
   ]
  },
  {
   "cell_type": "code",
   "execution_count": null,
   "id": "6c3626ab",
   "metadata": {},
   "outputs": [],
   "source": [
    "from helper_functions import *\n",
    "# apply cleaning_transcripts function to speeches and save as new variabley\n",
    "cleaned_speeches = {k: func_cleaning_transcripts(v) for k, v in speeches.items()}\n",
    "\n",
    "#cleaned_speeches"
   ]
  },
  {
   "attachments": {},
   "cell_type": "markdown",
   "id": "00bf8bc3-19d0-4551-ae0f-eb22f672729e",
   "metadata": {
    "tags": []
   },
   "source": [
    "### Remove stopwords"
   ]
  },
  {
   "cell_type": "markdown",
   "id": "d0846f68-a29a-4c87-9ef9-98f1bba05698",
   "metadata": {},
   "source": [
    "The stop word list used in this project is derived from the following GitHub repo: https://gist.github.com/berteltorp/0cf8a0c7afea7f25ed754f24cfc2467b"
   ]
  },
  {
   "cell_type": "code",
   "execution_count": null,
   "id": "d3ce4eea-6340-43af-9b99-195c7f2409a5",
   "metadata": {
    "execution": {
     "iopub.execute_input": "2022-11-15T10:57:34.777424Z",
     "iopub.status.busy": "2022-11-15T10:57:34.776622Z",
     "iopub.status.idle": "2022-11-15T10:57:34.806331Z",
     "shell.execute_reply": "2022-11-15T10:57:34.804123Z",
     "shell.execute_reply.started": "2022-11-15T10:57:34.777341Z"
    },
    "tags": []
   },
   "outputs": [],
   "source": [
    "# danish stopwords\n",
    "# npm install stopwords-da\n",
    "# Run npm install -g npm@9.1.1 to update!"
   ]
  },
  {
   "cell_type": "markdown",
   "id": "87147bc7-816a-4e5c-be62-88a843a0d69e",
   "metadata": {},
   "source": [
    "!!! OBS NOGLE STOPWORD VIL JEG BEHOLDE, og loop this"
   ]
  },
  {
   "cell_type": "code",
   "execution_count": null,
   "id": "0976afad",
   "metadata": {},
   "outputs": [],
   "source": [
    "cleaned = {k: remove_stopwords(v) for k, v in cleaned_speeches.items()}"
   ]
  },
  {
   "cell_type": "code",
   "execution_count": null,
   "id": "ed60e9f3",
   "metadata": {},
   "outputs": [],
   "source": [
    "cleaned"
   ]
  },
  {
   "cell_type": "code",
   "execution_count": null,
   "id": "fbd265eb",
   "metadata": {},
   "outputs": [],
   "source": [
    "# turn cleaned dictionary into dataframe\n",
    "df = pd.DataFrame.from_dict(cleaned, orient='index', columns=['transcripts'])"
   ]
  },
  {
   "cell_type": "code",
   "execution_count": null,
   "id": "445bf099",
   "metadata": {},
   "outputs": [],
   "source": [
    "df"
   ]
  },
  {
   "cell_type": "code",
   "execution_count": null,
   "id": "88895724",
   "metadata": {},
   "outputs": [],
   "source": [
    "# give first col in df a header\n",
    "df['year'] = df.index\n",
    "# remove everything except the last 4 numbers from the year col\n",
    "df['year'] = df['year'].str[-4:]\n",
    "df['minister']=df.index\n",
    "# remove all non-alphabetic characters from minister col\n",
    "df['minister'] = df['minister'].str.replace(r'\\d', '')\n",
    "# remove underscores from minister col with space\n",
    "df['minister'] = df['minister'].str.replace('_', ' ')\n",
    "# make year numeric\n",
    "df['year'] = df['year'].astype(int)\n",
    "# remove the word \"nytaarstale\" from minister col\n",
    "df['minister'] = df['minister'].str.replace('nytaarstale', '').str.replace('statsminister','').str.replace('januar','')\n",
    "\n",
    "# correct names\n",
    "df['minister'] = df['minister'].str.replace('rasmussens', 'rasmussen')\n",
    "df['minister'] = df['minister'].str.replace('schmidts', 'schmidt')\n",
    "df['minister'] = df['minister'].str.replace('frederiksens', 'frederiksen')\n",
    "df['minister'] = df['minister'].str.replace('schlueters', 'schlueter')"
   ]
  },
  {
   "cell_type": "code",
   "execution_count": null,
   "id": "408dc30d",
   "metadata": {},
   "outputs": [],
   "source": [
    "df"
   ]
  },
  {
   "cell_type": "code",
   "execution_count": null,
   "id": "23994b8d",
   "metadata": {},
   "outputs": [],
   "source": [
    "# Capitalise minister names\n",
    "df['minister'] = df['minister'].str.title()"
   ]
  },
  {
   "cell_type": "code",
   "execution_count": null,
   "id": "adb4d381",
   "metadata": {},
   "outputs": [],
   "source": [
    "# remove spacings in beginning and end of minister names\n",
    "df['minister'] = df['minister'].str.strip()"
   ]
  },
  {
   "cell_type": "markdown",
   "id": "8924b0b9-fe3a-4a3e-8a9c-362086fd5941",
   "metadata": {},
   "source": [
    "### Adding party information to dataframe"
   ]
  },
  {
   "cell_type": "code",
   "execution_count": null,
   "id": "e30c5b2d",
   "metadata": {},
   "outputs": [],
   "source": [
    "df"
   ]
  },
  {
   "cell_type": "code",
   "execution_count": null,
   "id": "e2ddd1ee-256e-40f5-bac8-b97559fb5bef",
   "metadata": {
    "execution": {
     "iopub.execute_input": "2022-11-15T10:57:35.604186Z",
     "iopub.status.busy": "2022-11-15T10:57:35.603428Z",
     "iopub.status.idle": "2022-11-15T10:57:35.623465Z",
     "shell.execute_reply": "2022-11-15T10:57:35.622047Z",
     "shell.execute_reply.started": "2022-11-15T10:57:35.604118Z"
    },
    "tags": []
   },
   "outputs": [],
   "source": [
    "for col in df: \n",
    "    print(df['minister'].unique())"
   ]
  },
  {
   "cell_type": "code",
   "execution_count": null,
   "id": "09c8472e-cfe8-4dea-aa84-0022db7fa7d7",
   "metadata": {
    "execution": {
     "iopub.execute_input": "2022-11-15T10:57:35.625747Z",
     "iopub.status.busy": "2022-11-15T10:57:35.625143Z",
     "iopub.status.idle": "2022-11-15T10:57:35.643426Z",
     "shell.execute_reply": "2022-11-15T10:57:35.642241Z",
     "shell.execute_reply.started": "2022-11-15T10:57:35.625704Z"
    },
    "tags": []
   },
   "outputs": [],
   "source": [
    "# Write a function that does the translation\n",
    "def party (row):\n",
    "    if row['minister']== 'Poul Nyrup Rasmussen':\n",
    "        return 'Socialdemokratiet'\n",
    "    if row['minister']== 'Anders Fogh Rasmussen':\n",
    "        return 'Venstre'\n",
    "    if row['minister']== 'Lars Loekke Rasmussen':\n",
    "        return 'Venstre'\n",
    "    if row['minister']== 'Helle Thorning Schmidt':\n",
    "        return 'Socialdemokratiet'\n",
    "    if row['minister']== 'Mette Frederiksen':\n",
    "        return 'Socialdemokratiet'\n",
    "    if row['minister']== 'Poul Schlueter':\n",
    "        return 'Det Konservative Folkeparti'\n",
    "    # if minister is none of the above, return 'other'\n",
    "    else: \n",
    "        return 'other'"
   ]
  },
  {
   "cell_type": "code",
   "execution_count": null,
   "id": "b2f043f2-c48f-463e-bcab-519308338a1f",
   "metadata": {
    "execution": {
     "iopub.execute_input": "2022-11-15T10:57:35.646446Z",
     "iopub.status.busy": "2022-11-15T10:57:35.645372Z",
     "iopub.status.idle": "2022-11-15T10:57:35.662196Z",
     "shell.execute_reply": "2022-11-15T10:57:35.660965Z",
     "shell.execute_reply.started": "2022-11-15T10:57:35.646384Z"
    },
    "tags": []
   },
   "outputs": [],
   "source": [
    "df['Party'] = df.apply(lambda row: party(row), axis=1)"
   ]
  },
  {
   "cell_type": "code",
   "execution_count": null,
   "id": "cd9c9c6d",
   "metadata": {},
   "outputs": [],
   "source": [
    "df"
   ]
  },
  {
   "cell_type": "code",
   "execution_count": null,
   "id": "eb93b102-f1ab-4ef4-b2d3-f14b16e61f43",
   "metadata": {
    "execution": {
     "iopub.execute_input": "2022-11-15T10:57:35.664561Z",
     "iopub.status.busy": "2022-11-15T10:57:35.663851Z",
     "iopub.status.idle": "2022-11-15T10:57:35.700543Z",
     "shell.execute_reply": "2022-11-15T10:57:35.698839Z",
     "shell.execute_reply.started": "2022-11-15T10:57:35.664526Z"
    },
    "tags": []
   },
   "outputs": [],
   "source": [
    "def wing (row):\n",
    "    if row['Party']== 'Socialdemokratiet':\n",
    "        return 'Red'\n",
    "    if row['Party']== 'Venstre':\n",
    "        return 'Blue'\n",
    "    if row['Party']== 'Det Konservative Folkeparti':\n",
    "        return 'Blue'\n",
    "    if row['Party']== 'Radikale Venstre':\n",
    "        return 'Middle'\n",
    "    return 'Other' "
   ]
  },
  {
   "cell_type": "code",
   "execution_count": null,
   "id": "f3202b1e-35fa-4119-8198-b785448a4604",
   "metadata": {
    "execution": {
     "iopub.execute_input": "2022-11-15T10:57:35.704056Z",
     "iopub.status.busy": "2022-11-15T10:57:35.703354Z",
     "iopub.status.idle": "2022-11-15T10:57:35.722624Z",
     "shell.execute_reply": "2022-11-15T10:57:35.721077Z",
     "shell.execute_reply.started": "2022-11-15T10:57:35.703995Z"
    },
    "tags": []
   },
   "outputs": [],
   "source": [
    "df['Wing'] = df.apply (lambda row: wing(row), axis=1)"
   ]
  },
  {
   "cell_type": "code",
   "execution_count": null,
   "id": "7fa5f9af-5dda-46c8-80a5-7233ea39e99e",
   "metadata": {
    "execution": {
     "iopub.execute_input": "2022-11-15T10:57:59.897481Z",
     "iopub.status.busy": "2022-11-15T10:57:59.896211Z",
     "iopub.status.idle": "2022-11-15T10:57:59.929517Z",
     "shell.execute_reply": "2022-11-15T10:57:59.927820Z",
     "shell.execute_reply.started": "2022-11-15T10:57:59.897347Z"
    },
    "tags": []
   },
   "outputs": [],
   "source": [
    "df"
   ]
  },
  {
   "cell_type": "code",
   "execution_count": null,
   "id": "208c011c",
   "metadata": {},
   "outputs": [],
   "source": [
    "# make 'year' column numeric\n",
    "df['year'].astype(int)"
   ]
  },
  {
   "cell_type": "code",
   "execution_count": null,
   "id": "d238ad89",
   "metadata": {},
   "outputs": [],
   "source": [
    "df.to_csv('speeches_df.csv', index=False)"
   ]
  }
 ],
 "metadata": {
  "kernelspec": {
   "display_name": "cds_exam",
   "language": "python",
   "name": "python3"
  },
  "language_info": {
   "codemirror_mode": {
    "name": "ipython",
    "version": 3
   },
   "file_extension": ".py",
   "mimetype": "text/x-python",
   "name": "python",
   "nbconvert_exporter": "python",
   "pygments_lexer": "ipython3",
   "version": "3.8.13"
  },
  "vscode": {
   "interpreter": {
    "hash": "c2abbe11fe932113d186b9c021ffe68f1bd5ea3292820c2207f4984e1852ec85"
   }
  }
 },
 "nbformat": 4,
 "nbformat_minor": 5
}
